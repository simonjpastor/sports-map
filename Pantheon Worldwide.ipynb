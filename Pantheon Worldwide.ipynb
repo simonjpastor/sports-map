{
 "cells": [
  {
   "cell_type": "markdown",
   "metadata": {},
   "source": [
    "## Imports & Co"
   ]
  },
  {
   "cell_type": "code",
   "execution_count": null,
   "metadata": {},
   "outputs": [],
   "source": [
    "import pandas as pd\n",
    "from sys import path\n",
    "import requests as re\n",
    "import folium\n",
    "from folium import plugins\n",
    "import datetime\n",
    "import unicodedata\n",
    "import unidecode"
   ]
  },
  {
   "cell_type": "code",
   "execution_count": null,
   "metadata": {},
   "outputs": [],
   "source": [
    "data = pd.read_csv(\"person_2020_update.csv\")"
   ]
  },
  {
   "cell_type": "markdown",
   "metadata": {},
   "source": [
    "### Removing Accents Etc"
   ]
  },
  {
   "cell_type": "code",
   "execution_count": null,
   "metadata": {},
   "outputs": [],
   "source": [
    "def remove_accents(s):\n",
    "    return unidecode.unidecode(s)"
   ]
  },
  {
   "cell_type": "code",
   "execution_count": null,
   "metadata": {},
   "outputs": [],
   "source": [
    "def more_accents(s):\n",
    "    new_word = s.replace(\"à\",\"a\").replace(\"â\",\"a\").replace(\"æ\",\"a\").replace(\"á\",\"a\").replace(\"ä\",\"a\").replace(\"ã\",\"a\").replace(\"å\",\"a\").replace(\"ā\",\"a\")\n",
    "    new_word = new_word.replace(\"é\",\"e\").replace(\"è\",\"e\").replace(\"ê\",\"e\").replace(\"ë\",\"e\").replace(\"ę\",\"e\").replace(\"ė\",\"e\").replace(\"ē\",\"e\")\n",
    "    new_word = new_word.replace(\"î\",\"i\").replace(\"ï\",\"i\").replace(\"ì\",\"i\").replace(\"í\",\"i\").replace(\"į\",\"i\").replace(\"ī\",\"i\")\n",
    "    new_word = new_word.replace(\"ô\",\"o\").replace(\"œ\",\"o\").replace(\"ö\",\"o\").replace(\"ò\",\"o\").replace(\"ó\",\"o\").replace(\"õ\",\"o\").replace(\"ø\",\"o\").replace(\"ō\",\"o\")                                                                                                                                            \n",
    "    new_word = new_word.replace(\"ÿ\",\"y\")\n",
    "    new_word = new_word.replace(\"û\",\"u\").replace(\"ù\",\"u\").replace(\"ü\",\"u\").replace(\"ú\",\"u\").replace(\"ū\",\"u\")\n",
    "    return new_word                                                                                                                                        \n",
    "                                                                                                                                                \n",
    "                                                                                                                                                "
   ]
  },
  {
   "cell_type": "code",
   "execution_count": null,
   "metadata": {},
   "outputs": [],
   "source": [
    "data[\"name2\"] = data[\"name\"].apply(remove_accents)"
   ]
  },
  {
   "cell_type": "code",
   "execution_count": null,
   "metadata": {},
   "outputs": [],
   "source": [
    "data[\"name2\"] = data[\"name2\"].apply(more_accents)"
   ]
  },
  {
   "cell_type": "markdown",
   "metadata": {},
   "source": [
    "### Adding Links"
   ]
  },
  {
   "cell_type": "code",
   "execution_count": null,
   "metadata": {},
   "outputs": [],
   "source": [
    "data[\"link\"] = data[\"name\"]"
   ]
  },
  {
   "cell_type": "code",
   "execution_count": null,
   "metadata": {},
   "outputs": [],
   "source": [
    "for i in range (0,len(data[\"slug\"])):\n",
    "    try: \n",
    "        link = f\"https://en.wikipedia.org/wiki/{data['slug'][i]}\"\n",
    "        data[\"link\"][i] = link    \n",
    "    except KeyError:\n",
    "        link = \"\"\n",
    "        data[\"link\"][i] = link"
   ]
  },
  {
   "cell_type": "markdown",
   "metadata": {
    "heading_collapsed": true
   },
   "source": [
    "#### Colors"
   ]
  },
  {
   "cell_type": "code",
   "execution_count": null,
   "metadata": {
    "hidden": true
   },
   "outputs": [],
   "source": [
    "board_games = {'CHESS PLAYER': \"000000\",'GO PLAYER':\"2F4F4F\", 'POKER PLAYER':\"778899\",'SNOOKER':\"A9A9A9\"}\n",
    "\n",
    "\n",
    "\n"
   ]
  },
  {
   "cell_type": "code",
   "execution_count": null,
   "metadata": {
    "hidden": true
   },
   "outputs": [],
   "source": [
    "combat = ['BOXER':\"4B0082\", 'MARTIAL ARTS':\"FFD700\",'WRESTLER':\"A52A2A\",'BULLFIGHTER':\"A52A2A\",'FENCER':\"A52A2A\"]"
   ]
  },
  {
   "cell_type": "code",
   "execution_count": null,
   "metadata": {
    "hidden": true
   },
   "outputs": [],
   "source": [
    "racket = ['TENNIS PLAYER':\"6B8E23\",'TABLE TENNIS PLAYER':\"87CEFA\",'BADMINTON PLAYER':\"FFD700\"]"
   ]
  },
  {
   "cell_type": "code",
   "execution_count": null,
   "metadata": {
    "hidden": true
   },
   "outputs": [],
   "source": [
    "popular = {'SOCCER PLAYER':\"#00FFFF\", 'AMERICAN FOOTBALL PLAYER':\"008B8B\", \\\n",
    "           'BASKETBALL PLAYER':\"EE82EE\",'HANDBALL PLAYER':\"F0E68C\",'VOLLEYBALL PLAYER':\"BDB76B\",\\\n",
    "            'RUGBY PLAYER':\"008B8B\"}"
   ]
  },
  {
   "cell_type": "code",
   "execution_count": null,
   "metadata": {
    "hidden": true
   },
   "outputs": [],
   "source": [
    "ice = {'SKIER':\"87CEFA\", 'HOCKEY PLAYER':\"ADD8E6\",'SWIMMER':\"4169E1\",'SKATER':\"BDB76B\"}"
   ]
  },
  {
   "cell_type": "code",
   "execution_count": null,
   "metadata": {
    "hidden": true
   },
   "outputs": [],
   "source": [
    "other = ['COACH','REFEREE','GAMER']"
   ]
  },
  {
   "cell_type": "code",
   "execution_count": null,
   "metadata": {
    "hidden": true
   },
   "outputs": [],
   "source": [
    "individual = {'ATHLETE':\"#FF7F50\", 'RACING DRIVER':\"696969\",\\\n",
    "              'CYCLIST':\"FFFF00\",'GYMNAST':\"FFC0CB\", 'GOLFER':\"DEB887\"]"
   ]
  },
  {
   "cell_type": "code",
   "execution_count": null,
   "metadata": {
    "hidden": true
   },
   "outputs": [],
   "source": [
    "bat = {'BASEBALL PLAYER':\"A52A2A\",'CRICKETER:\"F4A460\"}"
   ]
  },
  {
   "cell_type": "markdown",
   "metadata": {},
   "source": [
    "### Eliminating NAs in the List"
   ]
  },
  {
   "cell_type": "code",
   "execution_count": null,
   "metadata": {},
   "outputs": [],
   "source": [
    "data[data[\"alive\"] ==False]"
   ]
  },
  {
   "cell_type": "code",
   "execution_count": null,
   "metadata": {},
   "outputs": [],
   "source": [
    "for i in range(0,len(data[\"name\"])):\n",
    "    try: \n",
    "        if \"durant\" in data[\"name\"][i].lower(): \n",
    "            print(data[i])\n",
    "    except KeyError:\n",
    "        pass"
   ]
  },
  {
   "cell_type": "code",
   "execution_count": null,
   "metadata": {},
   "outputs": [],
   "source": [
    "data[\"twitter\"] = data['twitter'].fillna(0)\n",
    "data[\"bplace_lat\"] = data['bplace_lat'].fillna(0)\n",
    "data[\"bplace_lon\"] = data['bplace_lon'].fillna(0)"
   ]
  },
  {
   "cell_type": "code",
   "execution_count": null,
   "metadata": {},
   "outputs": [],
   "source": [
    "na_list = []\n",
    "count = 0\n",
    "for i in data[\"bplace_lon\"]:\n",
    "    if i == 0:\n",
    "        na_list.append(count)\n",
    "        count += 1\n",
    "    else:\n",
    "        count += 1"
   ]
  },
  {
   "cell_type": "code",
   "execution_count": null,
   "metadata": {},
   "outputs": [],
   "source": [
    "na_list_2 = []\n",
    "count = 0\n",
    "for i in data[\"bplace_lat\"]:\n",
    "    if i == 0:\n",
    "        na_list_2.append(count)\n",
    "        count += 1\n",
    "    else:\n",
    "        count += 1"
   ]
  },
  {
   "cell_type": "code",
   "execution_count": null,
   "metadata": {},
   "outputs": [],
   "source": [
    "bad_people = []\n",
    "for i in na_list: \n",
    "    if i in bad_people:\n",
    "        pass\n",
    "    else:\n",
    "        bad_people.append(i)"
   ]
  },
  {
   "cell_type": "code",
   "execution_count": null,
   "metadata": {},
   "outputs": [],
   "source": [
    "for i in na_list_2: \n",
    "    if i in bad_people:\n",
    "        pass\n",
    "    else:\n",
    "        bad_people.append(i)"
   ]
  },
  {
   "cell_type": "code",
   "execution_count": null,
   "metadata": {},
   "outputs": [],
   "source": [
    "data = data[data.bplace_lat != 0]\n",
    "data = data[data.bplace_lon != 0]"
   ]
  },
  {
   "cell_type": "markdown",
   "metadata": {},
   "source": [
    "## Mapping"
   ]
  },
  {
   "cell_type": "code",
   "execution_count": null,
   "metadata": {},
   "outputs": [],
   "source": [
    "color = {'CHESS PLAYER': \"000000\",'GO PLAYER':\"2F4F4F\", 'POKER PLAYER':\"778899\",'SNOOKER':\"A9A9A9\",\\\n",
    "        'BOXER':\"4B0082\", 'MARTIAL ARTS':\"FFD700\",'WRESTLER':\"A52A2A\",'BULLFIGHTER':\"A52A2A\",'FENCER':\"A52A2A\",\\\n",
    "        'TENNIS PLAYER':\"6B8E23\",'TABLE TENNIS PLAYER':\"87CEFA\",'BADMINTON PLAYER':\"FFD700\",\\\n",
    "        'SOCCER PLAYER':\"#00FFFF\", 'AMERICAN FOOTBALL PLAYER':\"008B8B\", \\\n",
    "        'BASKETBALL PLAYER':\"EE82EE\",'HANDBALL PLAYER':\"F0E68C\",'VOLLEYBALL PLAYER':\"BDB76B\",\\\n",
    "        'RUGBY PLAYER':\"008B8B\",'SKIER':\"87CEFA\", 'HOCKEY PLAYER':\"ADD8E6\",'SWIMMER':\"4169E1\",\\\n",
    "        'SKATER':\"BDB76B\",'ATHLETE':\"#FF7F50\", 'RACING DRIVER':\"696969\", 'CYCLIST':\"FFFF00\",\\\n",
    "        'GYMNAST':\"FFC0CB\", 'GOLFER':\"DEB887\",'BASEBALL PLAYER':\"A52A2A\",'CRICKETER':\"F4A460\",\\\n",
    "        'COACH':\"7B68EE\",'REFEREE':\"7B68EE\",'GAMER':\"FF69B4\",}"
   ]
  },
  {
   "cell_type": "code",
   "execution_count": null,
   "metadata": {},
   "outputs": [],
   "source": [
    "lat = data[\"bplace_lat\"]\n",
    "long = data[\"bplace_lon\"]"
   ]
  },
  {
   "cell_type": "code",
   "execution_count": null,
   "metadata": {},
   "outputs": [],
   "source": [
    "issues = []\n",
    "year_map = folium.Map(location=(50.850346,4.351721),zoom_start=3)\n",
    "for i in range(0,88936):\n",
    "    if i % 10000 == 0:\n",
    "        print(i)\n",
    "    try: \n",
    "        coordinates = (float(lat[i]), float(long[i]))\n",
    "        folium.CircleMarker(\n",
    "            popup=folium.Popup(html=f\"<h4 style='color:black';><a href={str(data['link'][i])}>{str(data['name2'][i])}</a></h4><body style='color:black';>Gender: {str(data['gender'][i])} Age: {str(data['age'][i])} Birthdate:{str(data['birthdate'][i])}  Occupation: {str(data['occupation'][i])} </body>\",max_width=\"50%\"),\n",
    "            tooltip=f\"{str(data['name2'][i])}, {data['occupation'][i]}\",\n",
    "            radius=3,\n",
    "            location=coordinates,\n",
    "            color=f'#{color[data[\"occupation\"][i]]}',\n",
    "            fill=True,\n",
    "        ).add_to(year_map)\n",
    "    except KeyError:\n",
    "        issues.append(i)\n",
    "year_map"
   ]
  },
  {
   "cell_type": "code",
   "execution_count": null,
   "metadata": {},
   "outputs": [],
   "source": [
    "year_map"
   ]
  },
  {
   "cell_type": "code",
   "execution_count": null,
   "metadata": {},
   "outputs": [],
   "source": [
    "year_map.save('MySportsMap4.html')"
   ]
  },
  {
   "cell_type": "code",
   "execution_count": null,
   "metadata": {},
   "outputs": [],
   "source": [
    "ls"
   ]
  },
  {
   "cell_type": "code",
   "execution_count": null,
   "metadata": {},
   "outputs": [],
   "source": []
  }
 ],
 "metadata": {
  "kernelspec": {
   "display_name": "Python 3",
   "language": "python",
   "name": "python3"
  },
  "language_info": {
   "codemirror_mode": {
    "name": "ipython",
    "version": 3
   },
   "file_extension": ".py",
   "mimetype": "text/x-python",
   "name": "python",
   "nbconvert_exporter": "python",
   "pygments_lexer": "ipython3",
   "version": "3.7.7"
  },
  "toc": {
   "base_numbering": 1,
   "nav_menu": {},
   "number_sections": true,
   "sideBar": true,
   "skip_h1_title": false,
   "title_cell": "Table of Contents",
   "title_sidebar": "Contents",
   "toc_cell": false,
   "toc_position": {},
   "toc_section_display": true,
   "toc_window_display": false
  }
 },
 "nbformat": 4,
 "nbformat_minor": 4
}
